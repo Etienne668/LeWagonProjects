{
 "cells": [
  {
   "cell_type": "markdown",
   "metadata": {
    "id": "P7S56gcXdEaf"
   },
   "source": [
    " ![Emil](data:image/png;base64,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)"
   ]
  },
  {
   "cell_type": "markdown",
   "metadata": {
    "id": "VPQBwFE6dEag"
   },
   "source": [
    "# Introduction to Python"
   ]
  },
  {
   "cell_type": "markdown",
   "metadata": {
    "id": "nSCvLlsudEak"
   },
   "source": [
    "Values, Variables and types"
   ]
  },
  {
   "cell_type": "markdown",
   "metadata": {
    "id": "fyKblf1-dEak"
   },
   "source": [
    "### Values"
   ]
  },
  {
   "cell_type": "code",
   "execution_count": 1,
   "metadata": {
    "colab": {
     "base_uri": "https://localhost:8080/"
    },
    "executionInfo": {
     "elapsed": 5,
     "status": "ok",
     "timestamp": 1683230102170,
     "user": {
      "displayName": "Raphael Amzallag",
      "userId": "08580047829116926483"
     },
     "user_tz": -120
    },
    "id": "UAM9Eu1ydEal",
    "outputId": "fa4b0f02-7122-4476-aa8f-22064265ef4b"
   },
   "outputs": [
    {
     "name": "stdout",
     "output_type": "stream",
     "text": [
      "3\n"
     ]
    }
   ],
   "source": [
    "print(3)"
   ]
  },
  {
   "cell_type": "markdown",
   "metadata": {
    "id": "ijy0b3NrdEay"
   },
   "source": [
    "The `print()` function allows you to see the results displayed. But as we are in a Jupyter Notebook, this is the normal behaviour after execution of a block of code. Note that if the block in question returns nothing, nothing will be displayed."
   ]
  },
  {
   "cell_type": "code",
   "execution_count": 6,
   "metadata": {
    "colab": {
     "base_uri": "https://localhost:8080/"
    },
    "executionInfo": {
     "elapsed": 351,
     "status": "ok",
     "timestamp": 1683230140035,
     "user": {
      "displayName": "Raphael Amzallag",
      "userId": "08580047829116926483"
     },
     "user_tz": -120
    },
    "id": "Y6ls6sPIdEay",
    "outputId": "dbaf6f2e-db60-4563-8ebe-ec262635cea6"
   },
   "outputs": [
    {
     "data": {
      "text/plain": [
       "3"
      ]
     },
     "execution_count": 6,
     "metadata": {},
     "output_type": "execute_result"
    }
   ],
   "source": [
    "3"
   ]
  },
  {
   "cell_type": "markdown",
   "metadata": {
    "id": "J4egYN9xdEa2"
   },
   "source": [
    "We can use Python for its most basic use, the calculator!"
   ]
  },
  {
   "cell_type": "code",
   "execution_count": 7,
   "metadata": {
    "colab": {
     "base_uri": "https://localhost:8080/"
    },
    "executionInfo": {
     "elapsed": 242,
     "status": "ok",
     "timestamp": 1683230146618,
     "user": {
      "displayName": "Raphael Amzallag",
      "userId": "08580047829116926483"
     },
     "user_tz": -120
    },
    "id": "1_QiPdMgdEa4",
    "outputId": "153f6096-8e87-4c90-e58e-26494a8aa869"
   },
   "outputs": [
    {
     "data": {
      "text/plain": [
       "7"
      ]
     },
     "execution_count": 7,
     "metadata": {},
     "output_type": "execute_result"
    }
   ],
   "source": [
    "3 + 4"
   ]
  },
  {
   "cell_type": "code",
   "execution_count": 11,
   "metadata": {
    "colab": {
     "base_uri": "https://localhost:8080/"
    },
    "executionInfo": {
     "elapsed": 3,
     "status": "ok",
     "timestamp": 1683230167919,
     "user": {
      "displayName": "Raphael Amzallag",
      "userId": "08580047829116926483"
     },
     "user_tz": -120
    },
    "id": "hXElHN8ddEa_",
    "outputId": "9d5f0735-a512-454d-c269-7cbb0702497e"
   },
   "outputs": [
    {
     "data": {
      "text/plain": [
       "9"
      ]
     },
     "execution_count": 11,
     "metadata": {},
     "output_type": "execute_result"
    }
   ],
   "source": [
    "12 / (3 + 5)"
   ]
  },
  {
   "cell_type": "code",
   "execution_count": 12,
   "metadata": {
    "colab": {
     "base_uri": "https://localhost:8080/"
    },
    "executionInfo": {
     "elapsed": 230,
     "status": "ok",
     "timestamp": 1683230179497,
     "user": {
      "displayName": "Raphael Amzallag",
      "userId": "08580047829116926483"
     },
     "user_tz": -120
    },
    "id": "Pk5bJkOldEbC",
    "outputId": "e31ac55a-4298-49db-c1a6-a0e0bc2dcf9b"
   },
   "outputs": [
    {
     "data": {
      "text/plain": [
       "36.57142857142857"
      ]
     },
     "execution_count": 12,
     "metadata": {},
     "output_type": "execute_result"
    }
   ],
   "source": [
    "16 + 12 * (12 / (3 + 4))"
   ]
  },
  {
   "cell_type": "markdown",
   "metadata": {
    "id": "qHbWg65idEbF"
   },
   "source": [
    "Reading becomes difficult, you need to save the intermediate results! How to do it? --> Use variables"
   ]
  },
  {
   "cell_type": "markdown",
   "metadata": {
    "id": "aHjd6ycPdEbG"
   },
   "source": [
    "### Variables"
   ]
  },
  {
   "cell_type": "markdown",
   "metadata": {
    "id": "nMRwo1OfdEbH"
   },
   "source": [
    "Using the previous example:"
   ]
  },
  {
   "cell_type": "code",
   "execution_count": 2,
   "metadata": {
    "colab": {
     "base_uri": "https://localhost:8080/"
    },
    "executionInfo": {
     "elapsed": 5,
     "status": "ok",
     "timestamp": 1683230236047,
     "user": {
      "displayName": "Raphael Amzallag",
      "userId": "08580047829116926483"
     },
     "user_tz": -120
    },
    "id": "GC1mD2UOdEbI",
    "outputId": "cf85a113-42e2-4d6c-89f0-92daee505a09"
   },
   "outputs": [
    {
     "name": "stdout",
     "output_type": "stream",
     "text": [
      "36.57142857142857\n"
     ]
    }
   ],
   "source": [
    "a = 3 + 4\n",
    "b = 12 / a\n",
    "c = 16 + 12 * b\n",
    "print(c)"
   ]
  },
  {
   "cell_type": "markdown",
   "metadata": {
    "id": "uVdaPYvmdEbL"
   },
   "source": [
    "The result is the same but it is much more readable! We have used here 3 variables `a`, `b`, `c`\n",
    "\n",
    "variables' names are a string, which cannot start with a number and cannot have a space!\n",
    "\n",
    "Furthermore, the `=` sign does not test for equality but is an affectation. The instruction `a = 3 + 4` tells the computer to put the value 7 in the variable `a`."
   ]
  },
  {
   "cell_type": "markdown",
   "metadata": {
    "id": "YnY08LV6dEbM"
   },
   "source": [
    "You can also \"overwrite\" the value of a variable with another value. The following instructions calculate the same result but using only one variable!"
   ]
  },
  {
   "cell_type": "code",
   "execution_count": null,
   "metadata": {
    "colab": {
     "base_uri": "https://localhost:8080/"
    },
    "executionInfo": {
     "elapsed": 33,
     "status": "ok",
     "timestamp": 1673463198392,
     "user": {
      "displayName": "Julio Quintana",
      "userId": "09440220807595989648"
     },
     "user_tz": 300
    },
    "id": "9ava9-q7dEbN",
    "outputId": "cf6e39a8-4ee6-4bf6-a954-f83cdabc8933"
   },
   "outputs": [
    {
     "name": "stdout",
     "output_type": "stream",
     "text": [
      "36.57142857142857\n"
     ]
    }
   ],
   "source": [
    "a = 3 + 4\n",
    "a = 12 / a\n",
    "a = 16 + 12 * a\n",
    "print(a)"
   ]
  },
  {
   "cell_type": "markdown",
   "metadata": {
    "id": "2Kb5ZF2MdEbZ"
   },
   "source": [
    "The \"#\" symbol represents a comment and is not executed."
   ]
  },
  {
   "cell_type": "code",
   "execution_count": null,
   "metadata": {
    "colab": {
     "base_uri": "https://localhost:8080/"
    },
    "executionInfo": {
     "elapsed": 32,
     "status": "ok",
     "timestamp": 1673463198393,
     "user": {
      "displayName": "Julio Quintana",
      "userId": "09440220807595989648"
     },
     "user_tz": 300
    },
    "id": "-qPpntWtdEbZ",
    "outputId": "dc0dcd00-9ed8-43fd-9111-e13b79c6c3a5"
   },
   "outputs": [
    {
     "name": "stdout",
     "output_type": "stream",
     "text": [
      "36.57142857142857\n"
     ]
    }
   ],
   "source": [
    "print(a) # I can write what I want, it's just to explain a line of code"
   ]
  },
  {
   "cell_type": "markdown",
   "metadata": {
    "id": "E6Kw3W0VdEbc"
   },
   "source": [
    "### Types"
   ]
  },
  {
   "cell_type": "markdown",
   "metadata": {
    "id": "xiKLxRZudEbe"
   },
   "source": [
    "Each variable, being a value, can be of several different types in Python.\n",
    "\n",
    "The `type()` function returns the type of the variable or value passed in brackets:"
   ]
  },
  {
   "cell_type": "code",
   "execution_count": null,
   "metadata": {
    "colab": {
     "base_uri": "https://localhost:8080/"
    },
    "executionInfo": {
     "elapsed": 30,
     "status": "ok",
     "timestamp": 1673463198393,
     "user": {
      "displayName": "Julio Quintana",
      "userId": "09440220807595989648"
     },
     "user_tz": 300
    },
    "id": "oXsWJrhgdEbe",
    "outputId": "1bce755e-8b64-4926-f660-708ab75b97ff"
   },
   "outputs": [
    {
     "name": "stdout",
     "output_type": "stream",
     "text": [
      "<class 'int'>\n",
      "<class 'float'>\n",
      "<class 'str'>\n"
     ]
    }
   ],
   "source": [
    "print(type(1)) # int for integer\n",
    "\n",
    "print(type(-1.0)) # float\n",
    "\n",
    "print(type(\"hello world!\")) # str for string"
   ]
  },
  {
   "cell_type": "markdown",
   "metadata": {
    "id": "Lc1vFrOOdEbg"
   },
   "source": [
    "What would be the result here ?"
   ]
  },
  {
   "cell_type": "code",
   "execution_count": null,
   "metadata": {
    "colab": {
     "base_uri": "https://localhost:8080/"
    },
    "executionInfo": {
     "elapsed": 28,
     "status": "ok",
     "timestamp": 1673463198393,
     "user": {
      "displayName": "Julio Quintana",
      "userId": "09440220807595989648"
     },
     "user_tz": 300
    },
    "id": "7Fnif4NbdEbh",
    "outputId": "2684357d-0e74-4843-d8f7-98ae42acddf6"
   },
   "outputs": [
    {
     "name": "stdout",
     "output_type": "stream",
     "text": [
      "<class 'float'>\n"
     ]
    }
   ],
   "source": [
    "print(type(a))"
   ]
  },
  {
   "cell_type": "markdown",
   "metadata": {
    "id": "rDcF99RLdEbj"
   },
   "source": [
    "In Python the type of a variable is not definitive and can be changed. For example, we will change the type of the variable `a` by casting it to int. The consequence will be that we will truncate the decimals."
   ]
  },
  {
   "cell_type": "code",
   "execution_count": null,
   "metadata": {
    "colab": {
     "base_uri": "https://localhost:8080/"
    },
    "executionInfo": {
     "elapsed": 27,
     "status": "ok",
     "timestamp": 1673463198394,
     "user": {
      "displayName": "Julio Quintana",
      "userId": "09440220807595989648"
     },
     "user_tz": 300
    },
    "id": "vYsHIyNadEbk",
    "outputId": "1c3dc5cc-e524-45fa-885c-490ab097eb7e"
   },
   "outputs": [
    {
     "name": "stdout",
     "output_type": "stream",
     "text": [
      "12\n",
      "36\n"
     ]
    }
   ],
   "source": [
    "print(int(12.9))\n",
    "print(int(a))"
   ]
  },
  {
   "cell_type": "markdown",
   "metadata": {
    "id": "EgRwT-3VdEbm"
   },
   "source": [
    "What would be the result here ?"
   ]
  },
  {
   "cell_type": "code",
   "execution_count": null,
   "metadata": {
    "colab": {
     "base_uri": "https://localhost:8080/"
    },
    "executionInfo": {
     "elapsed": 24,
     "status": "ok",
     "timestamp": 1673463198394,
     "user": {
      "displayName": "Julio Quintana",
      "userId": "09440220807595989648"
     },
     "user_tz": 300
    },
    "id": "h4l_Xn9qdEbn",
    "outputId": "b0f9a94c-d4d6-4113-a76a-245a5c15dfdd"
   },
   "outputs": [
    {
     "data": {
      "text/plain": [
       "36.57142857142857"
      ]
     },
     "execution_count": 12,
     "metadata": {},
     "output_type": "execute_result"
    }
   ],
   "source": [
    "a"
   ]
  },
  {
   "cell_type": "markdown",
   "metadata": {
    "id": "mmCh5JLxdEbp"
   },
   "source": [
    "No assignment was made! The variable `a` must be overwritten by itself transformed into int."
   ]
  },
  {
   "cell_type": "code",
   "execution_count": null,
   "metadata": {
    "colab": {
     "base_uri": "https://localhost:8080/"
    },
    "executionInfo": {
     "elapsed": 22,
     "status": "ok",
     "timestamp": 1673463198394,
     "user": {
      "displayName": "Julio Quintana",
      "userId": "09440220807595989648"
     },
     "user_tz": 300
    },
    "id": "ZA_3Z6bbdEbp",
    "outputId": "bccbfe00-4e01-4ab8-dfc1-eb0a8cca7d88"
   },
   "outputs": [
    {
     "name": "stdout",
     "output_type": "stream",
     "text": [
      "36\n"
     ]
    }
   ],
   "source": [
    "a = int(a)\n",
    "print(a)"
   ]
  },
  {
   "cell_type": "markdown",
   "metadata": {
    "id": "vC9K7dL6dEbr"
   },
   "source": [
    "### String"
   ]
  },
  {
   "cell_type": "markdown",
   "metadata": {
    "id": "yDxiCWX9dEbs"
   },
   "source": [
    "A string can contain any character and not only our alphabet (all ascii codes are accepted)"
   ]
  },
  {
   "cell_type": "code",
   "execution_count": null,
   "metadata": {
    "colab": {
     "base_uri": "https://localhost:8080/"
    },
    "executionInfo": {
     "elapsed": 21,
     "status": "ok",
     "timestamp": 1673463198395,
     "user": {
      "displayName": "Julio Quintana",
      "userId": "09440220807595989648"
     },
     "user_tz": 300
    },
    "id": "zYuNk3QjdEbt",
    "outputId": "5a235106-770b-4cb8-e1aa-a7e6409b7e6c"
   },
   "outputs": [
    {
     "name": "stdout",
     "output_type": "stream",
     "text": [
      "<class 'str'>\n",
      "hello world 2020!\n"
     ]
    }
   ],
   "source": [
    "s = \"hello world 2020!\" # we added spaces, numbers and special characters\n",
    "print(type(s))\n",
    "print(s)"
   ]
  },
  {
   "cell_type": "markdown",
   "metadata": {
    "id": "coWmMnRadEbw"
   },
   "source": [
    "Two strings can be concatenated using the `+` operation"
   ]
  },
  {
   "cell_type": "code",
   "execution_count": null,
   "metadata": {
    "colab": {
     "base_uri": "https://localhost:8080/",
     "height": 35
    },
    "executionInfo": {
     "elapsed": 19,
     "status": "ok",
     "timestamp": 1673463198395,
     "user": {
      "displayName": "Julio Quintana",
      "userId": "09440220807595989648"
     },
     "user_tz": 300
    },
    "id": "3_tR07r9dEbw",
    "outputId": "d36f03ab-8c3c-4278-9b56-448efd9b8ea1"
   },
   "outputs": [
    {
     "data": {
      "application/vnd.google.colaboratory.intrinsic+json": {
       "type": "string"
      },
      "text/plain": [
       "'Hello world 2020!'"
      ]
     },
     "execution_count": 15,
     "metadata": {},
     "output_type": "execute_result"
    }
   ],
   "source": [
    "s = \"Hello world\" + \" 2020\" + \"!\"\n",
    "s"
   ]
  },
  {
   "cell_type": "markdown",
   "metadata": {
    "id": "fQmmFOTLdEby"
   },
   "source": [
    "Not very practical when you want to insert it in a specific place! There are several ways to do this, but the most common is to use f-string! Note that the character `f` at the beginning is not a typo but indicates to Python that we are using f-string."
   ]
  },
  {
   "cell_type": "code",
   "execution_count": null,
   "metadata": {
    "colab": {
     "base_uri": "https://localhost:8080/",
     "height": 35
    },
    "executionInfo": {
     "elapsed": 17,
     "status": "ok",
     "timestamp": 1673463198395,
     "user": {
      "displayName": "Julio Quintana",
      "userId": "09440220807595989648"
     },
     "user_tz": 300
    },
    "id": "9dc9Fd2kdEby",
    "outputId": "f1127876-ffa2-4e7d-be01-bedba9d4a86b"
   },
   "outputs": [
    {
     "data": {
      "application/vnd.google.colaboratory.intrinsic+json": {
       "type": "string"
      },
      "text/plain": [
       "'hello world 2020!'"
      ]
     },
     "execution_count": 16,
     "metadata": {},
     "output_type": "execute_result"
    }
   ],
   "source": [
    "year = 2020\n",
    "s = f\"hello world {year}!\"\n",
    "s"
   ]
  },
  {
   "cell_type": "markdown",
   "metadata": {
    "id": "TUJSewCWdEb0"
   },
   "source": [
    "## Data structures"
   ]
  },
  {
   "cell_type": "markdown",
   "metadata": {
    "id": "gpm3e4o4dEb0"
   },
   "source": [
    "For now, we only have the so-called primary types, but what if we want to store multiple values? as many variables as values ? You can imagine the hell for the organization. \n",
    "\n",
    "--> Fortunately, there are data structures :)"
   ]
  },
  {
   "cell_type": "markdown",
   "metadata": {
    "id": "0ZvwtEF5dEb0"
   },
   "source": [
    "### List, identifier [ ]"
   ]
  },
  {
   "cell_type": "code",
   "execution_count": null,
   "metadata": {
    "colab": {
     "base_uri": "https://localhost:8080/"
    },
    "executionInfo": {
     "elapsed": 17,
     "status": "ok",
     "timestamp": 1673463198396,
     "user": {
      "displayName": "Julio Quintana",
      "userId": "09440220807595989648"
     },
     "user_tz": 300
    },
    "id": "WK_IcUlNdEb1",
    "outputId": "6e8d6cd6-dc6b-4cff-bc79-ba2c36097f85"
   },
   "outputs": [
    {
     "data": {
      "text/plain": [
       "[1, 3, 5]"
      ]
     },
     "execution_count": 17,
     "metadata": {},
     "output_type": "execute_result"
    }
   ],
   "source": [
    "l = [1, 3, 5]\n",
    "l"
   ]
  },
  {
   "cell_type": "markdown",
   "metadata": {
    "id": "SKaZ_dtIdEb3"
   },
   "source": [
    "A list contains a sequence of values, in an ordered way, you **don't need** to:\n",
    "- define the size of the list in advance\n",
    "- have the same type for all values in the list"
   ]
  },
  {
   "cell_type": "code",
   "execution_count": 3,
   "metadata": {
    "colab": {
     "base_uri": "https://localhost:8080/"
    },
    "executionInfo": {
     "elapsed": 222,
     "status": "ok",
     "timestamp": 1683230290904,
     "user": {
      "displayName": "Raphael Amzallag",
      "userId": "08580047829116926483"
     },
     "user_tz": -120
    },
    "id": "IZFyOBwLdEb3",
    "outputId": "1fce8b9e-5171-4721-8d30-d4d629d9216a"
   },
   "outputs": [
    {
     "data": {
      "text/plain": [
       "[1, 'Hello', 3.4]"
      ]
     },
     "execution_count": 3,
     "metadata": {},
     "output_type": "execute_result"
    }
   ],
   "source": [
    "l = [1, \"Hello\", 3.4]\n",
    "l"
   ]
  },
  {
   "cell_type": "markdown",
   "metadata": {
    "id": "GltYAUAvdEb6"
   },
   "source": [
    "Type of variable `l` is now a **list**"
   ]
  },
  {
   "cell_type": "code",
   "execution_count": 4,
   "metadata": {
    "colab": {
     "base_uri": "https://localhost:8080/"
    },
    "executionInfo": {
     "elapsed": 234,
     "status": "ok",
     "timestamp": 1683230306912,
     "user": {
      "displayName": "Raphael Amzallag",
      "userId": "08580047829116926483"
     },
     "user_tz": -120
    },
    "id": "3hUCRkPPdEb6",
    "outputId": "6df045ba-f005-4849-c0fc-a43eec1b7531"
   },
   "outputs": [
    {
     "data": {
      "text/plain": [
       "list"
      ]
     },
     "execution_count": 4,
     "metadata": {},
     "output_type": "execute_result"
    }
   ],
   "source": [
    "type(l)"
   ]
  },
  {
   "cell_type": "markdown",
   "metadata": {
    "id": "OmLPj4i0dEb_"
   },
   "source": [
    "#### Accessing a value"
   ]
  },
  {
   "cell_type": "markdown",
   "metadata": {
    "id": "84XzCPY5dEcA"
   },
   "source": [
    "To access a value, we use the position (index) of the item in the list. **Note that in Python, we start counting from 0 !**"
   ]
  },
  {
   "cell_type": "code",
   "execution_count": null,
   "metadata": {
    "colab": {
     "base_uri": "https://localhost:8080/"
    },
    "executionInfo": {
     "elapsed": 38,
     "status": "ok",
     "timestamp": 1673463198661,
     "user": {
      "displayName": "Julio Quintana",
      "userId": "09440220807595989648"
     },
     "user_tz": 300
    },
    "id": "Yn2hqSCrdEcA",
    "outputId": "1e18d554-9f75-4921-be35-8229428a593a"
   },
   "outputs": [
    {
     "name": "stdout",
     "output_type": "stream",
     "text": [
      "1\n",
      "3.4\n"
     ]
    }
   ],
   "source": [
    "print(l[0]) # first element\n",
    "print(l[2]) # third element"
   ]
  },
  {
   "cell_type": "markdown",
   "metadata": {
    "id": "mqgLTqlHdEcC"
   },
   "source": [
    "Items can also be accessed from the end by using negative indexes."
   ]
  },
  {
   "cell_type": "code",
   "execution_count": null,
   "metadata": {
    "colab": {
     "base_uri": "https://localhost:8080/"
    },
    "executionInfo": {
     "elapsed": 36,
     "status": "ok",
     "timestamp": 1673463198661,
     "user": {
      "displayName": "Julio Quintana",
      "userId": "09440220807595989648"
     },
     "user_tz": 300
    },
    "id": "y9zJVfKLdEcC",
    "outputId": "35164718-9118-4373-a8d9-9c8e552d121e"
   },
   "outputs": [
    {
     "name": "stdout",
     "output_type": "stream",
     "text": [
      "3.4\n",
      "Hello\n"
     ]
    }
   ],
   "source": [
    "print(l[-1]) # last element \n",
    "print(l[-2]) # second to last item"
   ]
  },
  {
   "cell_type": "markdown",
   "metadata": {
    "id": "J7cajBfidEcE"
   },
   "source": [
    "#### Accessing multiple values (slicing)"
   ]
  },
  {
   "cell_type": "markdown",
   "metadata": {
    "id": "XVmBl-P5dEcF"
   },
   "source": [
    "A sub-list of consecutive values can be accessed using slicing operation, i.e. by specifying the index of the first item to be retrieved and the index of the last item to be retrieved."
   ]
  },
  {
   "cell_type": "code",
   "execution_count": null,
   "metadata": {
    "colab": {
     "base_uri": "https://localhost:8080/"
    },
    "executionInfo": {
     "elapsed": 34,
     "status": "ok",
     "timestamp": 1673463198661,
     "user": {
      "displayName": "Julio Quintana",
      "userId": "09440220807595989648"
     },
     "user_tz": 300
    },
    "id": "jmC7KrORdEcF",
    "outputId": "b300b468-dff0-404c-867e-3099641ea88d"
   },
   "outputs": [
    {
     "name": "stdout",
     "output_type": "stream",
     "text": [
      "[1, 'Hello']\n",
      "[1, 'Hello']\n"
     ]
    }
   ],
   "source": [
    "print(l[0:2]) # items with indexes 0 and 1\n",
    "print(l[:2]) # two first"
   ]
  },
  {
   "cell_type": "code",
   "execution_count": null,
   "metadata": {
    "colab": {
     "base_uri": "https://localhost:8080/"
    },
    "executionInfo": {
     "elapsed": 33,
     "status": "ok",
     "timestamp": 1673463198662,
     "user": {
      "displayName": "Julio Quintana",
      "userId": "09440220807595989648"
     },
     "user_tz": 300
    },
    "id": "10ajYtGYdEcH",
    "outputId": "37fb1621-32ae-48fc-e0ca-f9ba66a608b1"
   },
   "outputs": [
    {
     "name": "stdout",
     "output_type": "stream",
     "text": [
      "['Hello', 3.4]\n"
     ]
    }
   ],
   "source": [
    "print(l[-2:]) # two last"
   ]
  },
  {
   "cell_type": "markdown",
   "metadata": {
    "id": "2s6GFblSdEcJ"
   },
   "source": [
    "#### Modify a value"
   ]
  },
  {
   "cell_type": "markdown",
   "metadata": {
    "id": "c_wnfJ87dEcJ"
   },
   "source": [
    "To change a value, we simply treat each item in the list as a variable. If we want to change the first value in the list l by 18, we would do:"
   ]
  },
  {
   "cell_type": "code",
   "execution_count": null,
   "metadata": {
    "colab": {
     "base_uri": "https://localhost:8080/"
    },
    "executionInfo": {
     "elapsed": 31,
     "status": "ok",
     "timestamp": 1673463198662,
     "user": {
      "displayName": "Julio Quintana",
      "userId": "09440220807595989648"
     },
     "user_tz": 300
    },
    "id": "wtY9zO2LdEcJ",
    "outputId": "588bd1dd-8aca-41c3-ec4b-778d16fccced"
   },
   "outputs": [
    {
     "data": {
      "text/plain": [
       "[18, 'Hello', 3.4]"
      ]
     },
     "execution_count": 24,
     "metadata": {},
     "output_type": "execute_result"
    }
   ],
   "source": [
    "l[0] = 18 # reminder : index 0 for the first element\n",
    "l"
   ]
  },
  {
   "cell_type": "markdown",
   "metadata": {
    "id": "Uh8hVM_adEcN"
   },
   "source": [
    "Look, the result has changed!"
   ]
  },
  {
   "cell_type": "markdown",
   "metadata": {
    "id": "wyDHzy3ddEcO"
   },
   "source": [
    "#### Add a value"
   ]
  },
  {
   "cell_type": "markdown",
   "metadata": {
    "id": "yd96ZQ9adEcP"
   },
   "source": [
    "To add a value to the list, several functions can be used:"
   ]
  },
  {
   "cell_type": "code",
   "execution_count": null,
   "metadata": {
    "colab": {
     "base_uri": "https://localhost:8080/"
    },
    "executionInfo": {
     "elapsed": 29,
     "status": "ok",
     "timestamp": 1673463198662,
     "user": {
      "displayName": "Julio Quintana",
      "userId": "09440220807595989648"
     },
     "user_tz": 300
    },
    "id": "5-KNkQ2wdEcQ",
    "outputId": "6c9fdbcd-8a4d-4f45-9420-e22d6374f341"
   },
   "outputs": [
    {
     "name": "stdout",
     "output_type": "stream",
     "text": [
      "[18, 89, 'Hello', 3.4]\n"
     ]
    }
   ],
   "source": [
    "# add value 89 in index 1\n",
    "l.insert(1, 89) # the insert function accepts two parameters in brackets, the index and the value to be added\n",
    "print(l)"
   ]
  },
  {
   "cell_type": "code",
   "execution_count": null,
   "metadata": {
    "colab": {
     "base_uri": "https://localhost:8080/"
    },
    "executionInfo": {
     "elapsed": 28,
     "status": "ok",
     "timestamp": 1673463198663,
     "user": {
      "displayName": "Julio Quintana",
      "userId": "09440220807595989648"
     },
     "user_tz": 300
    },
    "id": "Ql5XMcB7dEcS",
    "outputId": "4128b55d-fd52-49a2-d3b1-a0c7d87351d7"
   },
   "outputs": [
    {
     "name": "stdout",
     "output_type": "stream",
     "text": [
      "[18, 89, 'Hello', 3.4, 9]\n"
     ]
    }
   ],
   "source": [
    "l.append(9) # the append function is a special case of insert function, because it adds to the end the value\n",
    "print(l)"
   ]
  },
  {
   "cell_type": "markdown",
   "metadata": {
    "id": "7DcYb8QLdEcU"
   },
   "source": [
    "#### Delete a value"
   ]
  },
  {
   "cell_type": "markdown",
   "metadata": {
    "id": "eVRtqU6cdEcV"
   },
   "source": [
    "To delete a value by index:"
   ]
  },
  {
   "cell_type": "code",
   "execution_count": null,
   "metadata": {
    "colab": {
     "base_uri": "https://localhost:8080/"
    },
    "executionInfo": {
     "elapsed": 26,
     "status": "ok",
     "timestamp": 1673463198663,
     "user": {
      "displayName": "Julio Quintana",
      "userId": "09440220807595989648"
     },
     "user_tz": 300
    },
    "id": "gt6oax-1dEcV",
    "outputId": "f6df262c-3bde-4231-bdd4-eda2900c8c63"
   },
   "outputs": [
    {
     "name": "stdout",
     "output_type": "stream",
     "text": [
      "[18, 89, 3.4, 9]\n"
     ]
    }
   ],
   "source": [
    "l.pop(2)\n",
    "print(l)"
   ]
  },
  {
   "cell_type": "markdown",
   "metadata": {
    "id": "f3q-gfl0dEcY"
   },
   "source": [
    "#### Nested list"
   ]
  },
  {
   "cell_type": "markdown",
   "metadata": {
    "id": "JTop60XpdEcY"
   },
   "source": [
    "There is nothing to prevent you from adding to a list, a new list."
   ]
  },
  {
   "cell_type": "code",
   "execution_count": null,
   "metadata": {
    "colab": {
     "base_uri": "https://localhost:8080/"
    },
    "executionInfo": {
     "elapsed": 24,
     "status": "ok",
     "timestamp": 1673463198663,
     "user": {
      "displayName": "Julio Quintana",
      "userId": "09440220807595989648"
     },
     "user_tz": 300
    },
    "id": "OOUfvo53dEcZ",
    "outputId": "ff500fc9-83d0-4084-9abc-fc4487c716f4"
   },
   "outputs": [
    {
     "name": "stdout",
     "output_type": "stream",
     "text": [
      "[18, 89, 3.4, 9]\n",
      "[18, 89, 3.4, 9, [-2, -3, -0.123]]\n"
     ]
    }
   ],
   "source": [
    "print(l)\n",
    "\n",
    "l2 = [-2, -3, -0.123]\n",
    "l.append(l2)\n",
    "print(l)"
   ]
  },
  {
   "cell_type": "markdown",
   "metadata": {
    "id": "j2IQwxk1dEcb"
   },
   "source": [
    "#### Other useful functions"
   ]
  },
  {
   "cell_type": "markdown",
   "metadata": {
    "id": "2ycjiHn1dEcd"
   },
   "source": [
    "To calculate the length of a list, use the `len()` function in Python:"
   ]
  },
  {
   "cell_type": "code",
   "execution_count": null,
   "metadata": {
    "colab": {
     "base_uri": "https://localhost:8080/"
    },
    "executionInfo": {
     "elapsed": 22,
     "status": "ok",
     "timestamp": 1673463198664,
     "user": {
      "displayName": "Julio Quintana",
      "userId": "09440220807595989648"
     },
     "user_tz": 300
    },
    "id": "WIwHSEKxdEcd",
    "outputId": "221cdd16-6b38-4031-d52a-cdb96ff4cfe5"
   },
   "outputs": [
    {
     "data": {
      "text/plain": [
       "5"
      ]
     },
     "execution_count": 29,
     "metadata": {},
     "output_type": "execute_result"
    }
   ],
   "source": [
    "len(l)"
   ]
  },
  {
   "cell_type": "markdown",
   "metadata": {
    "id": "sQZCPBZXdEck"
   },
   "source": [
    "### Dict, identifier { }"
   ]
  },
  {
   "cell_type": "code",
   "execution_count": null,
   "metadata": {
    "colab": {
     "base_uri": "https://localhost:8080/"
    },
    "executionInfo": {
     "elapsed": 19,
     "status": "ok",
     "timestamp": 1673463198664,
     "user": {
      "displayName": "Julio Quintana",
      "userId": "09440220807595989648"
     },
     "user_tz": 300
    },
    "id": "3yN-ccHHdEcl",
    "outputId": "d0fca2a9-84bf-499e-d09f-9640ae41c3e2"
   },
   "outputs": [
    {
     "data": {
      "text/plain": [
       "{'first_name': 'Paul', 'last_name': 'Mochkovitch'}"
      ]
     },
     "execution_count": 30,
     "metadata": {},
     "output_type": "execute_result"
    }
   ],
   "source": [
    "d = {\"first_name\": \"Paul\",\n",
    "     \"last_name\": \"Mochkovitch\"}\n",
    "d"
   ]
  },
  {
   "cell_type": "markdown",
   "metadata": {
    "id": "ZIafH_UrdEcp"
   },
   "source": [
    "A dictionary, unlike a list, has no order. It is made up of keys / values.\n",
    "\n",
    "The keys of a dictionary are **unique** and the values can be of any type (including data structures)"
   ]
  },
  {
   "cell_type": "markdown",
   "metadata": {
    "id": "JDBECsi_dEcq"
   },
   "source": [
    "The variable `l` defined previously is of type dict"
   ]
  },
  {
   "cell_type": "code",
   "execution_count": null,
   "metadata": {
    "colab": {
     "base_uri": "https://localhost:8080/"
    },
    "executionInfo": {
     "elapsed": 17,
     "status": "ok",
     "timestamp": 1673463198664,
     "user": {
      "displayName": "Julio Quintana",
      "userId": "09440220807595989648"
     },
     "user_tz": 300
    },
    "id": "7JQ0kBzMdEcs",
    "outputId": "927cf212-6522-443e-8d08-ed97d713e968"
   },
   "outputs": [
    {
     "data": {
      "text/plain": [
       "dict"
      ]
     },
     "execution_count": 31,
     "metadata": {},
     "output_type": "execute_result"
    }
   ],
   "source": [
    "type(d)"
   ]
  },
  {
   "cell_type": "markdown",
   "metadata": {
    "id": "FfLJwopgdEc0"
   },
   "source": [
    "#### Access a value"
   ]
  },
  {
   "cell_type": "markdown",
   "metadata": {
    "id": "jRbEf9eUdEc1"
   },
   "source": [
    "To access an element of a dictionary, it is via the name of its key and not the index number because there is none! You can imagine that all the keys are in the first position. It is as fast to access one key as another.\n",
    "\n",
    "For example, if we want to access the value of the `first_name` key, we would write:"
   ]
  },
  {
   "cell_type": "code",
   "execution_count": null,
   "metadata": {
    "colab": {
     "base_uri": "https://localhost:8080/",
     "height": 35
    },
    "executionInfo": {
     "elapsed": 16,
     "status": "ok",
     "timestamp": 1673463198665,
     "user": {
      "displayName": "Julio Quintana",
      "userId": "09440220807595989648"
     },
     "user_tz": 300
    },
    "id": "GfjiyTs-dEc1",
    "outputId": "90ad3327-d069-4f94-b0a4-b9f9abbbfdee"
   },
   "outputs": [
    {
     "data": {
      "application/vnd.google.colaboratory.intrinsic+json": {
       "type": "string"
      },
      "text/plain": [
       "'Paul'"
      ]
     },
     "execution_count": 32,
     "metadata": {},
     "output_type": "execute_result"
    }
   ],
   "source": [
    "d[\"first_name\"] # look we use brackets [] to access a key's value"
   ]
  },
  {
   "cell_type": "markdown",
   "metadata": {
    "id": "DVkOZkl3dEc4"
   },
   "source": [
    "#### Modify a value"
   ]
  },
  {
   "cell_type": "markdown",
   "metadata": {
    "id": "gNWdXxqAdEc5"
   },
   "source": [
    "To modify a value, you just have to consider the key as a variable. If we want to modify the value of the key `first_name` by Victor, we will write:"
   ]
  },
  {
   "cell_type": "code",
   "execution_count": null,
   "metadata": {
    "colab": {
     "base_uri": "https://localhost:8080/"
    },
    "executionInfo": {
     "elapsed": 15,
     "status": "ok",
     "timestamp": 1673463198665,
     "user": {
      "displayName": "Julio Quintana",
      "userId": "09440220807595989648"
     },
     "user_tz": 300
    },
    "id": "yw8SEjE5dEc5",
    "outputId": "5221d5bf-9804-4b57-d45c-367c5c2acdab"
   },
   "outputs": [
    {
     "data": {
      "text/plain": [
       "{'first_name': 'Victor', 'last_name': 'Mochkovitch'}"
      ]
     },
     "execution_count": 33,
     "metadata": {},
     "output_type": "execute_result"
    }
   ],
   "source": [
    "d[\"first_name\"] = \"Victor\"\n",
    "d"
   ]
  },
  {
   "cell_type": "markdown",
   "metadata": {
    "id": "TIktkJKjdEdE"
   },
   "source": [
    "#### Add a key"
   ]
  },
  {
   "cell_type": "markdown",
   "metadata": {
    "id": "bKPJqyRtdEdE"
   },
   "source": [
    "To add a new key, it is enough to proceed as if one wanted to change its value. Since the key does not exist, it will create it with the assigned value."
   ]
  },
  {
   "cell_type": "code",
   "execution_count": null,
   "metadata": {
    "colab": {
     "base_uri": "https://localhost:8080/"
    },
    "executionInfo": {
     "elapsed": 13,
     "status": "ok",
     "timestamp": 1673463198665,
     "user": {
      "displayName": "Julio Quintana",
      "userId": "09440220807595989648"
     },
     "user_tz": 300
    },
    "id": "pZG2t21ydEdF",
    "outputId": "2185af24-9e21-4d31-c8ba-726d41f6e146"
   },
   "outputs": [
    {
     "data": {
      "text/plain": [
       "{'first_name': 'Victor', 'last_name': 'Mochkovitch', 'age': 30}"
      ]
     },
     "execution_count": 34,
     "metadata": {},
     "output_type": "execute_result"
    }
   ],
   "source": [
    "d[\"age\"] = 30\n",
    "d"
   ]
  },
  {
   "cell_type": "markdown",
   "metadata": {
    "id": "9uMJIqNDdEdI"
   },
   "source": [
    "#### Delete a key"
   ]
  },
  {
   "cell_type": "markdown",
   "metadata": {
    "id": "-gGBa-qbdEdI"
   },
   "source": [
    "To delete a key, we use the same `pop` function as for lists."
   ]
  },
  {
   "cell_type": "code",
   "execution_count": null,
   "metadata": {
    "colab": {
     "base_uri": "https://localhost:8080/"
    },
    "executionInfo": {
     "elapsed": 12,
     "status": "ok",
     "timestamp": 1673463198666,
     "user": {
      "displayName": "Julio Quintana",
      "userId": "09440220807595989648"
     },
     "user_tz": 300
    },
    "id": "vYcIGmJ8dEdJ",
    "outputId": "dc940790-1b85-4fd6-da0a-1bea8144d1ff"
   },
   "outputs": [
    {
     "data": {
      "text/plain": [
       "{'first_name': 'Victor', 'last_name': 'Mochkovitch'}"
      ]
     },
     "execution_count": 35,
     "metadata": {},
     "output_type": "execute_result"
    }
   ],
   "source": [
    "d.pop(\"age\")\n",
    "d"
   ]
  },
  {
   "cell_type": "markdown",
   "metadata": {
    "id": "HNSPPjSgdEdL"
   },
   "source": [
    "#### Nested dictionnaries"
   ]
  },
  {
   "cell_type": "markdown",
   "metadata": {
    "id": "cxQ9XcRudEdL"
   },
   "source": [
    "In the same way that there is a list of list, a dictionary can have a key value that is also a dictionary. It is even very common."
   ]
  },
  {
   "cell_type": "code",
   "execution_count": null,
   "metadata": {
    "colab": {
     "base_uri": "https://localhost:8080/"
    },
    "executionInfo": {
     "elapsed": 3,
     "status": "ok",
     "timestamp": 1673463214237,
     "user": {
      "displayName": "Julio Quintana",
      "userId": "09440220807595989648"
     },
     "user_tz": 300
    },
    "id": "RK5bESacdEdM",
    "outputId": "177639b5-765c-462c-b37a-6cffc485477d"
   },
   "outputs": [
    {
     "data": {
      "text/plain": [
       "{'first_name': 'Victor',\n",
       " 'last_name': 'Mochkovitch',\n",
       " 'measures': {'height(cm)': 189, 'weight': 100}}"
      ]
     },
     "execution_count": 36,
     "metadata": {},
     "output_type": "execute_result"
    }
   ],
   "source": [
    "d[\"measures\"] = {\"height(cm)\": 189, \"weight\": 100}\n",
    "d"
   ]
  },
  {
   "cell_type": "markdown",
   "metadata": {
    "id": "MbROJrTHdEdO"
   },
   "source": [
    "How to access the \"weight\" value?"
   ]
  },
  {
   "cell_type": "code",
   "execution_count": null,
   "metadata": {
    "colab": {
     "base_uri": "https://localhost:8080/"
    },
    "executionInfo": {
     "elapsed": 179,
     "status": "ok",
     "timestamp": 1673463233490,
     "user": {
      "displayName": "Julio Quintana",
      "userId": "09440220807595989648"
     },
     "user_tz": 300
    },
    "id": "Eh9T_ldFdEdO",
    "outputId": "37b08228-f18d-4af4-ecc0-6c062cd183f7"
   },
   "outputs": [
    {
     "data": {
      "text/plain": [
       "100"
      ]
     },
     "execution_count": 37,
     "metadata": {},
     "output_type": "execute_result"
    }
   ],
   "source": [
    "d[\"measures\"][\"weight\"]"
   ]
  },
  {
   "cell_type": "markdown",
   "metadata": {
    "id": "wCWsWVx5dEdT"
   },
   "source": [
    "#### Other functions"
   ]
  },
  {
   "cell_type": "markdown",
   "metadata": {
    "id": "-Umv1k9VdEdT"
   },
   "source": [
    "To list all the keys in a dictionary, you can use the `.keys()` function"
   ]
  },
  {
   "cell_type": "code",
   "execution_count": null,
   "metadata": {
    "colab": {
     "base_uri": "https://localhost:8080/"
    },
    "executionInfo": {
     "elapsed": 176,
     "status": "ok",
     "timestamp": 1673463237600,
     "user": {
      "displayName": "Julio Quintana",
      "userId": "09440220807595989648"
     },
     "user_tz": 300
    },
    "id": "y5kS40StdEdT",
    "outputId": "046f6b94-e20e-4582-bdbc-abf086b6bcb3"
   },
   "outputs": [
    {
     "data": {
      "text/plain": [
       "dict_keys(['first_name', 'last_name', 'measures'])"
      ]
     },
     "execution_count": 38,
     "metadata": {},
     "output_type": "execute_result"
    }
   ],
   "source": [
    "d.keys()"
   ]
  },
  {
   "cell_type": "markdown",
   "metadata": {
    "id": "L93MDCF4dEdV"
   },
   "source": [
    "To count the number of keys in a dictionary, simply use the same `len` function"
   ]
  },
  {
   "cell_type": "code",
   "execution_count": null,
   "metadata": {
    "id": "jN3xZ1m9dEdV",
    "outputId": "456da08a-04e4-40be-d7a4-84e6f0765bb3"
   },
   "outputs": [
    {
     "data": {
      "text/plain": [
       "3"
      ]
     },
     "execution_count": 158,
     "metadata": {
      "tags": []
     },
     "output_type": "execute_result"
    }
   ],
   "source": [
    "len(d)"
   ]
  },
  {
   "cell_type": "markdown",
   "metadata": {
    "id": "36UPnhTXdEdX"
   },
   "source": [
    "## Conditions & operators"
   ]
  },
  {
   "cell_type": "markdown",
   "metadata": {
    "id": "aIU0hWS1dEdY"
   },
   "source": [
    "### Comparison operators"
   ]
  },
  {
   "cell_type": "markdown",
   "metadata": {
    "id": "QjJVBny-dEdY"
   },
   "source": [
    "- \">\": for strictly superior\n",
    "- \">=\" : for greater than or equal to\n",
    "- \"<\" : for inferior strict\n",
    "- \"<=\" : for less than or equal to\n",
    "- \"==\" : to test for equality\n",
    "- \"!=\" : to test the difference\n",
    "- \"in\": to test if an element is in a list or if an element is a key in a dictionary\n",
    "- \"not in\": the opposite of in"
   ]
  },
  {
   "cell_type": "code",
   "execution_count": 5,
   "metadata": {
    "colab": {
     "base_uri": "https://localhost:8080/"
    },
    "executionInfo": {
     "elapsed": 5,
     "status": "ok",
     "timestamp": 1683230459138,
     "user": {
      "displayName": "Raphael Amzallag",
      "userId": "08580047829116926483"
     },
     "user_tz": -120
    },
    "id": "At1d0cHXdEdY",
    "outputId": "20dee1cc-d99d-40b6-92b3-ab0e147b1986"
   },
   "outputs": [
    {
     "data": {
      "text/plain": [
       "False"
      ]
     },
     "execution_count": 5,
     "metadata": {},
     "output_type": "execute_result"
    }
   ],
   "source": [
    "a = 3\n",
    "b = 5\n",
    "print(a == b)"
   ]
  },
  {
   "cell_type": "code",
   "execution_count": null,
   "metadata": {
    "id": "ZRTabcZHdEdb",
    "outputId": "e701f352-2d68-4d07-cc2b-bc9e64c52621"
   },
   "outputs": [
    {
     "name": "stdout",
     "output_type": "stream",
     "text": [
      "0\n",
      "1\n"
     ]
    }
   ],
   "source": [
    "print(int(a >= b))\n",
    "print(int(a == a))"
   ]
  },
  {
   "cell_type": "markdown",
   "metadata": {
    "id": "LIcmmMHhdEde"
   },
   "source": [
    "## Conditions"
   ]
  },
  {
   "cell_type": "markdown",
   "metadata": {
    "id": "jddAPdfDdEdf"
   },
   "source": [
    "In computer science, we need to distinguish cases, so we use the `if` statement:"
   ]
  },
  {
   "cell_type": "code",
   "execution_count": null,
   "metadata": {
    "colab": {
     "base_uri": "https://localhost:8080/"
    },
    "executionInfo": {
     "elapsed": 6,
     "status": "ok",
     "timestamp": 1668176007641,
     "user": {
      "displayName": "Paul Mochkovitch",
      "userId": "11238269585821385606"
     },
     "user_tz": -60
    },
    "id": "KjCjBZjudEdg",
    "outputId": "2f71f4f1-162b-4bcf-aa86-1e05da5d66a4"
   },
   "outputs": [
    {
     "name": "stdout",
     "output_type": "stream",
     "text": [
      "a is strictly less than b\n"
     ]
    }
   ],
   "source": [
    "a = 3\n",
    "b = 5\n",
    "\n",
    "if a < b:\n",
    "    print(\"a is strictly less than b\")"
   ]
  },
  {
   "cell_type": "markdown",
   "metadata": {
    "id": "wVRLnh0ldEdl"
   },
   "source": [
    "**Note**: all statements that are below and offset by a tab will be executed if the condition is true. The offset is fundamental!"
   ]
  },
  {
   "cell_type": "markdown",
   "metadata": {
    "id": "n8JP5p2OdEdm"
   },
   "source": [
    "With an additionnal `else` clause:"
   ]
  },
  {
   "cell_type": "code",
   "execution_count": null,
   "metadata": {
    "colab": {
     "base_uri": "https://localhost:8080/"
    },
    "executionInfo": {
     "elapsed": 311,
     "status": "ok",
     "timestamp": 1668176125580,
     "user": {
      "displayName": "Paul Mochkovitch",
      "userId": "11238269585821385606"
     },
     "user_tz": -60
    },
    "id": "igN-r6MndEdn",
    "outputId": "7fbaff68-c4c6-49c4-dd5c-00b1ac90736e"
   },
   "outputs": [
    {
     "name": "stdout",
     "output_type": "stream",
     "text": [
      "a is strictly less than b\n"
     ]
    }
   ],
   "source": [
    "a = 3\n",
    "b = 5\n",
    "\n",
    "if a < b:\n",
    "    print(\"a is strictly less than b\")\n",
    "else:\n",
    "    print(\"a is greater or equal than b\")"
   ]
  },
  {
   "cell_type": "markdown",
   "metadata": {
    "id": "m8Fps_stdEdu"
   },
   "source": [
    "For more complicated condition tests, one may want to introduce if-not, `elif`:"
   ]
  },
  {
   "cell_type": "code",
   "execution_count": null,
   "metadata": {
    "id": "NkQJpYUgdEdu",
    "outputId": "b1cae453-e4e0-4f14-ee0d-19312f504e6f"
   },
   "outputs": [
    {
     "name": "stdout",
     "output_type": "stream",
     "text": [
      "a et b sont égaux\n"
     ]
    }
   ],
   "source": [
    "a = 3\n",
    "b = 3\n",
    "if a < b:\n",
    "    print(\"a is strictly less than b\")\n",
    "elif a == b:\n",
    "    print(\"a and b are equals\")\n",
    "else:\n",
    "    print(\"a is strictly greater than b\")"
   ]
  },
  {
   "cell_type": "markdown",
   "metadata": {
    "id": "pYfQXUrAdEdz"
   },
   "source": [
    "The conditions can also be combined to create a more complicated criterion, in which case parentheses are essential. The possible operators are `&` for and `|` for or."
   ]
  },
  {
   "cell_type": "code",
   "execution_count": null,
   "metadata": {
    "colab": {
     "base_uri": "https://localhost:8080/"
    },
    "executionInfo": {
     "elapsed": 3,
     "status": "ok",
     "timestamp": 1668176190172,
     "user": {
      "displayName": "Paul Mochkovitch",
      "userId": "11238269585821385606"
     },
     "user_tz": -60
    },
    "id": "Zvu-yniedEdz",
    "outputId": "a298c39b-fcca-4124-aa0b-cce57c4dd96c"
   },
   "outputs": [
    {
     "name": "stdout",
     "output_type": "stream",
     "text": [
      "Won !\n"
     ]
    }
   ],
   "source": [
    "l = [1, 7, 9, 2]\n",
    "\n",
    "if (l[0] < 3) & (l[3] < 5):\n",
    "    print(\"Won !\")"
   ]
  },
  {
   "cell_type": "markdown",
   "metadata": {
    "id": "OPqwG7KQdEd1"
   },
   "source": [
    "## Loops"
   ]
  },
  {
   "cell_type": "markdown",
   "metadata": {
    "id": "2n3W2HdWdEd2"
   },
   "source": [
    "To avoid repeating instructions, it is necessary to use loops"
   ]
  },
  {
   "cell_type": "code",
   "execution_count": null,
   "metadata": {
    "id": "dNz6x0XfdEd2",
    "outputId": "4b541478-30ec-4060-fb04-c9f0d8f604c1"
   },
   "outputs": [
    {
     "name": "stdout",
     "output_type": "stream",
     "text": [
      "1\n",
      "7\n",
      "9\n",
      "2\n"
     ]
    }
   ],
   "source": [
    "l = [1, 7, 9, 2]\n",
    "\n",
    "print(l[0])\n",
    "print(l[1])\n",
    "print(l[2])\n",
    "print(l[3])"
   ]
  },
  {
   "cell_type": "code",
   "execution_count": null,
   "metadata": {
    "id": "E8o_iXbvdEd4",
    "outputId": "c6377f32-8a9c-4a5b-d0cf-07b6ac340222"
   },
   "outputs": [
    {
     "name": "stdout",
     "output_type": "stream",
     "text": [
      "1\n",
      "7\n",
      "9\n",
      "2\n"
     ]
    }
   ],
   "source": [
    "for number in l:\n",
    "    print(number)"
   ]
  },
  {
   "cell_type": "markdown",
   "metadata": {
    "id": "gUY0Kj5RdEd5"
   },
   "source": [
    "`number` is here a variable that could have been called anything, it will scan all the values that are to the right of the `in` operator, in this case [1, 7, 9, 2].\n",
    "\n",
    "There are therefore 4 values taken by the variable `number`:\n",
    "- number=1 for the first execution of the lines below\n",
    "- number=7 for the second execution of the lines below\n",
    "- number=9 for the third ...\n",
    "- number=2 for the fourth ...\n",
    "\n",
    "Below the for, we put the insctructions we want!"
   ]
  },
  {
   "cell_type": "markdown",
   "metadata": {
    "id": "C7sD_7lRdEd5"
   },
   "source": [
    "To iterate on the keys of a dictionary we proceed in the same way:"
   ]
  },
  {
   "cell_type": "code",
   "execution_count": null,
   "metadata": {
    "colab": {
     "base_uri": "https://localhost:8080/"
    },
    "executionInfo": {
     "elapsed": 304,
     "status": "ok",
     "timestamp": 1668176535613,
     "user": {
      "displayName": "Paul Mochkovitch",
      "userId": "11238269585821385606"
     },
     "user_tz": -60
    },
    "id": "kZRdlJtfdEd6",
    "outputId": "6a262746-d0b5-4b5a-af63-45b17d3cc345"
   },
   "outputs": [
    {
     "name": "stdout",
     "output_type": "stream",
     "text": [
      "cat\n",
      "dog\n"
     ]
    }
   ],
   "source": [
    "d = {\"cat\": \"gray\", \"dog\": \"black\"}\n",
    "\n",
    "for key in d:\n",
    "    print(key)"
   ]
  },
  {
   "cell_type": "markdown",
   "metadata": {
    "id": "FA2FozM-dEd7"
   },
   "source": [
    "## Functions"
   ]
  },
  {
   "cell_type": "markdown",
   "metadata": {
    "id": "OoT8e2bhdEd8"
   },
   "source": [
    "To reproduce a series of instructions easily, functions are useful. A function is given a name and can take parameters as inputs and use them in its instructions."
   ]
  },
  {
   "cell_type": "markdown",
   "metadata": {
    "id": "k5PcI6xJdEd8"
   },
   "source": [
    "For example, let's write a function that simply displays \"Hello\"."
   ]
  },
  {
   "cell_type": "code",
   "execution_count": null,
   "metadata": {
    "id": "TX13fBBjdEd9"
   },
   "outputs": [],
   "source": [
    "def print_hello_world():\n",
    "    print(\"Hello\")"
   ]
  },
  {
   "cell_type": "code",
   "execution_count": null,
   "metadata": {
    "id": "T8RebiGPdEeH",
    "outputId": "18661e37-436f-4211-a2d2-cfb06e5e7adc"
   },
   "outputs": [
    {
     "name": "stdout",
     "output_type": "stream",
     "text": [
      "Hello\n"
     ]
    }
   ],
   "source": [
    "print_hello_world()"
   ]
  },
  {
   "cell_type": "markdown",
   "metadata": {
    "id": "xNUPScVBdEeJ"
   },
   "source": [
    "With a parameter:"
   ]
  },
  {
   "cell_type": "code",
   "execution_count": null,
   "metadata": {
    "id": "TBt0E6EtdEeJ"
   },
   "outputs": [],
   "source": [
    "def print_hello_world(first_name):\n",
    "    print(\"Hello {}\".format(first_name))"
   ]
  },
  {
   "cell_type": "code",
   "execution_count": null,
   "metadata": {
    "id": "guOJ5TY6dEeK",
    "outputId": "dbcc743d-6a0c-42f3-9b40-66075d437f3f"
   },
   "outputs": [
    {
     "name": "stdout",
     "output_type": "stream",
     "text": [
      "Hello Paul\n"
     ]
    }
   ],
   "source": [
    "print_hello_world(\"Paul\")"
   ]
  },
  {
   "cell_type": "markdown",
   "metadata": {
    "id": "la-kHX9ddEeM"
   },
   "source": [
    "Here the `first_name` parameter is mandatory but you may want to make it optional by adding a default value."
   ]
  },
  {
   "cell_type": "code",
   "execution_count": null,
   "metadata": {
    "id": "h6ETJJCcdEeM"
   },
   "outputs": [],
   "source": [
    "def print_hello_world(first_name=\"world\"):\n",
    "    print(\"Hello {}\".format(first_name))"
   ]
  },
  {
   "cell_type": "code",
   "execution_count": null,
   "metadata": {
    "id": "PHyO4DS_dEeQ",
    "outputId": "cdc97c39-5c10-4adf-d521-8a60358457be"
   },
   "outputs": [
    {
     "name": "stdout",
     "output_type": "stream",
     "text": [
      "Hello world\n"
     ]
    }
   ],
   "source": [
    "print_hello_world()"
   ]
  },
  {
   "cell_type": "code",
   "execution_count": null,
   "metadata": {
    "id": "s2RkSolIdEeS",
    "outputId": "5c4506dd-fdce-4478-fa03-f2bbd29cee62"
   },
   "outputs": [
    {
     "name": "stdout",
     "output_type": "stream",
     "text": [
      "Hello Paul\n"
     ]
    }
   ],
   "source": [
    "print_hello_world(\"Paul\")"
   ]
  },
  {
   "cell_type": "markdown",
   "metadata": {
    "id": "0LwLOVvTFYkn"
   },
   "source": [
    "# Object-oriented programming"
   ]
  },
  {
   "cell_type": "markdown",
   "metadata": {
    "id": "WHuOEE36GEVr"
   },
   "source": [
    "Object-oriented programming (OOP) allows you to create entities (objects) that you can manipulate. Object-oriented programming requires solid and clear structures. Objects can interact with each other, which makes the code much easier to understand and maintain.\n",
    "\n",
    "Python is an object-oriented programming language. All elements from now were objects..."
   ]
  },
  {
   "cell_type": "markdown",
   "metadata": {
    "id": "iJfQS_HQGb_w"
   },
   "source": [
    "## Class"
   ]
  },
  {
   "cell_type": "markdown",
   "metadata": {
    "id": "TnTdxIrUGufG"
   },
   "source": [
    "A class contains functions and attributes that define an object. The functions of a class are called \"methods\"."
   ]
  },
  {
   "cell_type": "code",
   "execution_count": null,
   "metadata": {
    "id": "cM7hqYPzGaxX"
   },
   "outputs": [],
   "source": [
    "class Car:\n",
    "\n",
    "\tdef __init__(self):\n",
    "\t\tself.brand = \"Ferrari\""
   ]
  },
  {
   "cell_type": "markdown",
   "metadata": {
    "id": "RUa1wc0PHfex"
   },
   "source": [
    "The Car class can be seen as a cars factory.\n",
    "\n",
    "The `init()` method is called when an object is created.\n",
    "\n",
    "`self.brand` is a variable relative to the object. This is called a class attribute. \n",
    "\n",
    "In our case, we define a class attribute brand and affects by default \"Ferrari\"."
   ]
  },
  {
   "cell_type": "markdown",
   "metadata": {
    "id": "h5z9fX6dHtAY"
   },
   "source": [
    "## Objects"
   ]
  },
  {
   "cell_type": "markdown",
   "metadata": {
    "id": "zW7VRYD3H0NU"
   },
   "source": [
    "An object is an **instance of a class** . You can create as many objects as you like with a class."
   ]
  },
  {
   "cell_type": "code",
   "execution_count": null,
   "metadata": {
    "id": "_LvbsqX_GErR"
   },
   "outputs": [],
   "source": [
    "my_car = Car()"
   ]
  },
  {
   "cell_type": "code",
   "execution_count": null,
   "metadata": {
    "colab": {
     "base_uri": "https://localhost:8080/"
    },
    "executionInfo": {
     "elapsed": 2,
     "status": "ok",
     "timestamp": 1668177718260,
     "user": {
      "displayName": "Paul Mochkovitch",
      "userId": "11238269585821385606"
     },
     "user_tz": -60
    },
    "id": "r57F1RW5II-b",
    "outputId": "b11931b8-198f-4597-ff8c-cf4bab60ee00"
   },
   "outputs": [
    {
     "name": "stdout",
     "output_type": "stream",
     "text": [
      "<class '__main__.Car'>\n"
     ]
    }
   ],
   "source": [
    "print(type(my_car))"
   ]
  },
  {
   "cell_type": "markdown",
   "metadata": {
    "id": "JE7PnUNjH-PQ"
   },
   "source": [
    "## Class attributes"
   ]
  },
  {
   "cell_type": "markdown",
   "metadata": {
    "id": "qgWkq5ZeIOAG"
   },
   "source": [
    "Class attributes are used to store information at the class level. They are similar to variables."
   ]
  },
  {
   "cell_type": "code",
   "execution_count": null,
   "metadata": {
    "colab": {
     "base_uri": "https://localhost:8080/"
    },
    "executionInfo": {
     "elapsed": 319,
     "status": "ok",
     "timestamp": 1668177720680,
     "user": {
      "displayName": "Paul Mochkovitch",
      "userId": "11238269585821385606"
     },
     "user_tz": -60
    },
    "id": "UQzh5A61Iaos",
    "outputId": "ecba0fb5-6bb7-4e81-dd7e-ce6470f42934"
   },
   "outputs": [
    {
     "name": "stdout",
     "output_type": "stream",
     "text": [
      "Ferrari\n",
      "BMW\n"
     ]
    }
   ],
   "source": [
    "# Print class attribute brand. By default it is a Ferrari.\n",
    "print(my_car.brand)\n",
    "\n",
    "# To modify a class attribute value\n",
    "my_car.brand = \"BMW\"\n",
    "print(my_car.brand)"
   ]
  },
  {
   "cell_type": "markdown",
   "metadata": {
    "id": "V3YxllezJEiJ"
   },
   "source": [
    "## Class methods"
   ]
  },
  {
   "cell_type": "markdown",
   "metadata": {
    "id": "RCAvsPHmJJAE"
   },
   "source": [
    "Methods are functions defined in a class. They always have `self` as the first argument to indicate that they belong to the class but may have other arguments afterwards."
   ]
  },
  {
   "cell_type": "code",
   "execution_count": null,
   "metadata": {
    "id": "WNlsimd0JdKc"
   },
   "outputs": [],
   "source": [
    "class Car:\n",
    "\n",
    "    def __init__(self):\n",
    "        self.brand = \"Ferrari\"\n",
    "\n",
    "    def fill_gasoline(self, gasoline=\"diesel\"):\n",
    "        print(f\"The car is filling up with {gasoline}\")"
   ]
  },
  {
   "cell_type": "code",
   "execution_count": null,
   "metadata": {
    "colab": {
     "base_uri": "https://localhost:8080/"
    },
    "executionInfo": {
     "elapsed": 310,
     "status": "ok",
     "timestamp": 1668177884048,
     "user": {
      "displayName": "Paul Mochkovitch",
      "userId": "11238269585821385606"
     },
     "user_tz": -60
    },
    "id": "CiklcocvJhfy",
    "outputId": "3c4bb063-940e-41db-e949-6b3e5f811ccc"
   },
   "outputs": [
    {
     "name": "stdout",
     "output_type": "stream",
     "text": [
      "The car is filling up with SP98\n"
     ]
    }
   ],
   "source": [
    "my_car = Car()\n",
    "my_car.fill_gasoline(\"SP98\")"
   ]
  },
  {
   "cell_type": "markdown",
   "metadata": {
    "id": "jccg0Zh9Jrhc"
   },
   "source": [
    "How would you qualify the nature of `__class__` and `upper()` in the following code?"
   ]
  },
  {
   "cell_type": "code",
   "execution_count": null,
   "metadata": {
    "colab": {
     "base_uri": "https://localhost:8080/"
    },
    "executionInfo": {
     "elapsed": 260,
     "status": "ok",
     "timestamp": 1668177985474,
     "user": {
      "displayName": "Paul Mochkovitch",
      "userId": "11238269585821385606"
     },
     "user_tz": -60
    },
    "id": "0-BrB9lyJ0XW",
    "outputId": "7b8d534a-f715-4e8b-8fb9-d2d11acdf3c5"
   },
   "outputs": [
    {
     "name": "stdout",
     "output_type": "stream",
     "text": [
      "<class 'str'>\n",
      "SOPHIE\n"
     ]
    }
   ],
   "source": [
    "s = \"sophie\"\n",
    "\n",
    "print(s.__class__)\n",
    "print(s.upper())"
   ]
  },
  {
   "cell_type": "markdown",
   "metadata": {
    "id": "hmOMVZEpJ0te"
   },
   "source": [
    "__class__ is a class attribute and upper is a class method, you need to use () to call upper method."
   ]
  },
  {
   "cell_type": "markdown",
   "metadata": {
    "id": "16eUUYvodEeV"
   },
   "source": [
    "# Let's code !"
   ]
  }
 ],
 "metadata": {
  "colab": {
   "provenance": []
  },
  "kernelspec": {
   "display_name": "Python 3 (ipykernel)",
   "language": "python",
   "name": "python3"
  },
  "language_info": {
   "codemirror_mode": {
    "name": "ipython",
    "version": 3
   },
   "file_extension": ".py",
   "mimetype": "text/x-python",
   "name": "python",
   "nbconvert_exporter": "python",
   "pygments_lexer": "ipython3",
   "version": "3.10.7"
  }
 },
 "nbformat": 4,
 "nbformat_minor": 4
}
