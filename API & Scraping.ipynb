{
 "cells": [
  {
   "cell_type": "markdown",
   "id": "ce24ed70-f894-4abe-85ae-730b07220b78",
   "metadata": {},
   "source": [
    "# API"
   ]
  },
  {
   "cell_type": "code",
   "execution_count": null,
   "id": "70609f74-d308-446f-8843-57b1511e0527",
   "metadata": {},
   "outputs": [],
   "source": [
    "response = requests.method(url, params=params, headers=headers)\n",
    "\n",
    "import requests\n",
    "\n",
    "url = 'URL'\n",
    "params = {\n",
    "    'xx': 'yy',\n",
    "    'format': 'json',\n",
    "    '...': '...'\n",
    "    }\n",
    "headers = xxx\n",
    "\n",
    "response = requests.get(url, params=params, headers=headers)\n"
   ]
  },
  {
   "cell_type": "markdown",
   "id": "67265975-4f28-4bc6-bd87-bade88f399a3",
   "metadata": {},
   "source": [
    "# response objects"
   ]
  },
  {
   "cell_type": "code",
   "execution_count": null,
   "id": "bae91935-c621-4894-9a6e-1e2ac7e7745d",
   "metadata": {},
   "outputs": [],
   "source": [
    "# url requested to check it is ok\n",
    "response.url\n",
    "\n",
    "# request status code\n",
    "response.status_code\n",
    "\n",
    "# query results in string format (hard to use)\n",
    "response.text\n",
    "\n",
    "# query results in a dictionary (easy to use)\n",
    "response.json()\n",
    "\n",
    "#query specific place on JSON\n",
    "response.json[0]['lat']\n"
   ]
  },
  {
   "cell_type": "code",
   "execution_count": 1,
   "id": "a1aef2e8-61bf-4782-a909-0be369c6d8ad",
   "metadata": {},
   "outputs": [],
   "source": [
    "# find 1 result \n",
    "\n",
    "soup.find('hA').text \n",
    "\n",
    "# find all results\n",
    "\n",
    "soup.find_all('div', class = 'xxx')"
   ]
  },
  {
   "cell_type": "code",
   "execution_count": null,
   "id": "756a1031-e3f6-4c47-a76e-e00006e0475e",
   "metadata": {},
   "outputs": [],
   "source": []
  }
 ],
 "metadata": {
  "kernelspec": {
   "display_name": "Python 3 (ipykernel)",
   "language": "python",
   "name": "python3"
  },
  "language_info": {
   "codemirror_mode": {
    "name": "ipython",
    "version": 3
   },
   "file_extension": ".py",
   "mimetype": "text/x-python",
   "name": "python",
   "nbconvert_exporter": "python",
   "pygments_lexer": "ipython3",
   "version": "3.10.7"
  }
 },
 "nbformat": 4,
 "nbformat_minor": 5
}
