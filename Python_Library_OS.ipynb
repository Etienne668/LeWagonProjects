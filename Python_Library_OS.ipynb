{
 "cells": [
  {
   "cell_type": "code",
   "execution_count": 1,
   "id": "f78de99c-2cb9-4b07-8487-275d7c0a1927",
   "metadata": {},
   "outputs": [],
   "source": [
    "import os "
   ]
  },
  {
   "cell_type": "code",
   "execution_count": 4,
   "id": "45d044e4-be93-49eb-b160-885ae7c15c3b",
   "metadata": {},
   "outputs": [
    {
     "data": {
      "text/plain": [
       "'/Users/etiennecampredon/Le Wagon'"
      ]
     },
     "execution_count": 4,
     "metadata": {},
     "output_type": "execute_result"
    }
   ],
   "source": [
    "# get current working directory (cwd)\n",
    "\n",
    "os.getcwd()"
   ]
  },
  {
   "cell_type": "code",
   "execution_count": 6,
   "id": "a7666d5a-ac23-486e-8d84-647cfcc5f8fd",
   "metadata": {},
   "outputs": [],
   "source": [
    "# change directly (chdir) to somewhere else on the same directory : \n",
    "\n",
    "os.chdir('sample_data')"
   ]
  },
  {
   "cell_type": "markdown",
   "id": "51dc7d82-87c6-4367-8bdf-6d4614ebdc5a",
   "metadata": {},
   "source": [
    "# Create new folder "
   ]
  },
  {
   "cell_type": "code",
   "execution_count": null,
   "id": "3765f7fc-93b7-4d67-9b18-1b510934555c",
   "metadata": {},
   "outputs": [],
   "source": [
    "# get folder path\n",
    "cwd_path = os.getcwd()\n",
    "\n",
    "# get the parent folder name\n",
    " = os.path.dirname(cwd_path)\n",
    "\n",
    "# automatically write the folder path \n",
    "new_folder_path = os.path.join(os.get_cwd(),'sample_data')\n",
    "\n",
    "#other example used for : \n",
    "example_used_for = pd.read_csv(new_folder_path)]]\n",
    "\n",
    "# new folder path \n",
    "os.makedirs(new_folder_path)"
   ]
  },
  {
   "cell_type": "markdown",
   "id": "be93bb1f-17aa-4958-803e-7cc3a87e1d5e",
   "metadata": {},
   "source": [
    "# Path and file validity"
   ]
  },
  {
   "cell_type": "code",
   "execution_count": null,
   "id": "6c9dadd4-69c8-4909-8e8c-7914f513f993",
   "metadata": {},
   "outputs": [],
   "source": [
    "os.path.exists(<your_path>) \n",
    "\n",
    "# check if a setup.py is a file or not \n",
    "os.path.isfile('setup.py') \n",
    "\n",
    "# check if a setup.py is a folder or not \n",
    "os.path.isdir(<dir>)\n",
    "\n",
    "#list all files and directories in the path\n",
    "os.listdir(<your_path>)"
   ]
  },
  {
   "cell_type": "markdown",
   "id": "e8c2eab3-383a-459e-93ac-a43ba79944c1",
   "metadata": {},
   "source": [
    "# Text files"
   ]
  },
  {
   "cell_type": "code",
   "execution_count": null,
   "id": "28d21a98-4d8d-44ed-9174-a3dc2bb0c1d6",
   "metadata": {
    "tags": []
   },
   "outputs": [],
   "source": [
    "# make f the variable in which the file will be contained (lines of text) \n",
    "with open(\"test.txt\", mode='r', encoding='utf-8') as f:\n",
    "\n",
    "# create a loop to print every line of the file f\n",
    "    for line in f:\n",
    "       print(line)"
   ]
  },
  {
   "cell_type": "code",
   "execution_count": 8,
   "id": "58c36f69-38ea-4f8b-b15b-7a4834817ed7",
   "metadata": {},
   "outputs": [],
   "source": [
    "#Code to write a text file \n",
    "with open(\"test.txt\", mode='w', encoding='utf-8') as f:\n",
    "   f.write(\"my first line\")\n",
    "   f.write(\"my second line\")\n",
    "    \n"
   ]
  },
  {
   "cell_type": "markdown",
   "id": "2f79238a-159d-46eb-bf14-5158c3848eef",
   "metadata": {},
   "source": [
    "# Json files"
   ]
  },
  {
   "cell_type": "code",
   "execution_count": null,
   "id": "070bf79d-2e42-41dc-a159-eac6493bcdb7",
   "metadata": {
    "tags": []
   },
   "outputs": [],
   "source": [
    "# Open JSON files \n",
    "import json\n",
    "with open('sample.json', 'r') as f:\n",
    "  \t\tcontent = json.load(f)\n",
    "\n",
    "#Write JSON file \n",
    "d = {\n",
    "   \"cat\": \"saturne\",\n",
    "   \"color\": \"gray\",\n",
    "   \"age\": 1\n",
    "}\n",
    "with open(\"my_cat.json\", \"w\") as f:\n",
    "   json.dump(d, f)"
   ]
  },
  {
   "cell_type": "markdown",
   "id": "0a8e1277-295d-4ccb-9faa-3a4e3491b109",
   "metadata": {},
   "source": [
    "# CSV Files"
   ]
  },
  {
   "cell_type": "code",
   "execution_count": null,
   "id": "ecbea3f9-66c2-43fd-9495-5ed16261248b",
   "metadata": {},
   "outputs": [],
   "source": [
    "import pandas as pd\n",
    "\n",
    "# loading from csv file\n",
    "df = pd.read_csv(\"my_file.csv\")\n",
    "\n",
    "# saving to csv file\n",
    "df.to_csv(\"my_file.csv\")"
   ]
  },
  {
   "cell_type": "markdown",
   "id": "34422e91-e4a7-428e-81b6-11f3236ae3e3",
   "metadata": {},
   "source": [
    "# SQL Files"
   ]
  },
  {
   "cell_type": "markdown",
   "id": "31911d65-c789-430e-b5a3-68de6e4ea32a",
   "metadata": {},
   "source": [
    "All operational databases use different connection systems\n",
    "\n",
    "The SQLAlchemy library standardizes the way we query a database. (official documentation)\n",
    "\n",
    "\n",
    "Three steps to use it:\n",
    "(1) Install the SQLAlchemy library and the specific library depending on the nature of the database \n",
    "(for example pymysql for a MySql database)\n",
    "(2) Create a connection to the database, select the corresponding driver (supported drivers)\n",
    "(3)  Query the database and get results\n"
   ]
  },
  {
   "cell_type": "code",
   "execution_count": null,
   "id": "63c749e4-f0d3-403d-ac99-224fa3e00dc2",
   "metadata": {
    "tags": []
   },
   "outputs": [],
   "source": [
    "(1) \n",
    "\n",
    "from sqlalchemy import inspect, create_engine, engine\n",
    "\n",
    "(2)\n",
    "con = create_engine(\n",
    "   # Equivalent URL:<driver_name>://<db_user>:<db_pass>@<db_host>:<db_port>/<db_name>\n",
    "   engine.url.URL.create(\n",
    "       drivername=driver_name,\n",
    "       username=db_user,\n",
    "       password=db_pass,\n",
    "       host=db_host,\n",
    "       port=db_port,\n",
    "       database=db_name,\n",
    "   )\n",
    ")\n"
   ]
  },
  {
   "cell_type": "code",
   "execution_count": null,
   "id": "d761d395-9402-43e5-b842-40ac29fee0ea",
   "metadata": {},
   "outputs": [],
   "source": [
    "(3)\n",
    "# List all tables in database\n",
    "insp = inspect(con)\n",
    "insp.get_table_names()\n",
    "\n",
    "# Query database\n",
    "query = \"SELECT * FROM table\"\n",
    "data = pd.read_sql(query, con)"
   ]
  },
  {
   "cell_type": "markdown",
   "id": "cae3bd4b-9bce-4ef9-91c6-72b8fb9c6d1b",
   "metadata": {
    "tags": []
   },
   "source": [
    "# SQL in Google Colab"
   ]
  },
  {
   "cell_type": "code",
   "execution_count": null,
   "id": "524d86b4-8363-4783-a436-6c7d6763f8bd",
   "metadata": {},
   "outputs": [],
   "source": [
    "from google.colab import auth\n",
    "import pandas as pd\n",
    "\n",
    "# Will collect your credentials\n",
    "auth.authenticate_user()\n",
    "\n",
    "# Query Bigquery\n",
    "query = \"SELECT * FROM table\"\n",
    "df = pd.read_gbq(query, project_id=\"YOUR-PROJECT-ID\")"
   ]
  }
 ],
 "metadata": {
  "kernelspec": {
   "display_name": "Python 3 (ipykernel)",
   "language": "python",
   "name": "python3"
  },
  "language_info": {
   "codemirror_mode": {
    "name": "ipython",
    "version": 3
   },
   "file_extension": ".py",
   "mimetype": "text/x-python",
   "name": "python",
   "nbconvert_exporter": "python",
   "pygments_lexer": "ipython3",
   "version": "3.10.7"
  }
 },
 "nbformat": 4,
 "nbformat_minor": 5
}
