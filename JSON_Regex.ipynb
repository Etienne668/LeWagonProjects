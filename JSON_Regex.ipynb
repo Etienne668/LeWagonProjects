{
 "cells": [
  {
   "cell_type": "code",
   "execution_count": null,
   "id": "16288e36-cfb1-454e-bbff-265c621e7892",
   "metadata": {
    "tags": []
   },
   "outputs": [],
   "source": [
    "#JSON REGEX to extract domain out of an email\n",
    "\n",
    "{{$node[\"Item Lists\"].json[\"Email\"].match(/@(.+)/)[1]}}"
   ]
  }
 ],
 "metadata": {
  "kernelspec": {
   "display_name": "Python 3 (ipykernel)",
   "language": "python",
   "name": "python3"
  },
  "language_info": {
   "codemirror_mode": {
    "name": "ipython",
    "version": 3
   },
   "file_extension": ".py",
   "mimetype": "text/x-python",
   "name": "python",
   "nbconvert_exporter": "python",
   "pygments_lexer": "ipython3",
   "version": "3.10.7"
  }
 },
 "nbformat": 4,
 "nbformat_minor": 5
}
