{
 "cells": [
  {
   "cell_type": "markdown",
   "id": "89da8415-6618-4685-a370-4270cca73843",
   "metadata": {},
   "source": [
    "Matplotlib.pyplot \n",
    "Squarify \n",
    "Seaborn "
   ]
  },
  {
   "cell_type": "markdown",
   "id": "49c4b3f9-a7b6-44dd-a6d3-7df460642dcd",
   "metadata": {},
   "source": [
    "# Python librairies"
   ]
  },
  {
   "cell_type": "markdown",
   "id": "51c38ac5-9d38-478e-8c65-be09457239e9",
   "metadata": {},
   "source": [
    "-> Matplotlib"
   ]
  },
  {
   "cell_type": "markdown",
   "id": "c15e1471-8443-4cf6-aae3-bbda108e5bb9",
   "metadata": {},
   "source": [
    "3 layers \n",
    "--> Back end : the chart structure\n",
    "--> Artist layer : functionalities for layout \n",
    "--> Scripting layer : mahe the plot and display the plot \n",
    "\n",
    "Mandatory parameters \n",
    "axis x & axis y \n",
    "\n",
    "Other parameters \n",
    "hue : color"
   ]
  },
  {
   "cell_type": "markdown",
   "id": "bed9091a-6a9f-4c3d-b2a8-969dad933f6e",
   "metadata": {},
   "source": [
    "-> Seaborn"
   ]
  },
  {
   "cell_type": "markdown",
   "id": "3c80138c-4541-4db7-9fbf-8194b085838c",
   "metadata": {},
   "source": [
    "Good for making static charts. Classic choice. Good for representing statistics. Large amound of graphics available. \n"
   ]
  },
  {
   "cell_type": "markdown",
   "id": "fa074014-b2f5-49de-b653-e87f144f3095",
   "metadata": {},
   "source": [
    "-> Plotly"
   ]
  },
  {
   "cell_type": "markdown",
   "id": "479060fd-fba3-447d-aba9-95029baec20c",
   "metadata": {},
   "source": [
    "Interactive plots. Best choice today.\n"
   ]
  },
  {
   "cell_type": "markdown",
   "id": "f51ce55b-9cdd-4b0b-86a4-a6cba6185aae",
   "metadata": {},
   "source": [
    "# Dates & time series"
   ]
  },
  {
   "cell_type": "code",
   "execution_count": null,
   "id": "7d6950bb-060b-4d0c-a535-a26393f9dff6",
   "metadata": {},
   "outputs": [],
   "source": [
    "import pandas as pd\n",
    "pd.to_datetime(df[\"YOUR_DATE_COLUMN\"], format = \"YOUR_INPUT_FORMAT\", errors = 'coerce')"
   ]
  },
  {
   "cell_type": "markdown",
   "id": "9e035df8-8309-4af2-833b-c6d9549ffc34",
   "metadata": {},
   "source": [
    "most common date format  : \"%Y/%m/%d\""
   ]
  },
  {
   "cell_type": "code",
   "execution_count": null,
   "id": "6cf5ba28-5fc8-4068-9ffe-319a3a6a64af",
   "metadata": {},
   "outputs": [],
   "source": [
    "df['column'].dt.day_name()"
   ]
  },
  {
   "cell_type": "code",
   "execution_count": null,
   "id": "2978e743-a609-4c3c-87d7-015113b4e9b6",
   "metadata": {},
   "outputs": [],
   "source": [
    "df['date'].dt.isocalendar()"
   ]
  },
  {
   "cell_type": "code",
   "execution_count": null,
   "id": "2f2112a3-d820-4449-85e2-e6bbc82ad1bd",
   "metadata": {},
   "outputs": [],
   "source": [
    "df.set_index('date')\n",
    "df.loc['2019-08-04'] #for precise date\n",
    "df.loc['2019-04'] # will display the whole months lines\n",
    "df.loc['2019-04' : '2019-05']"
   ]
  },
  {
   "cell_type": "code",
   "execution_count": null,
   "id": "8e9aba97-0df7-4852-b13c-9b4ec5f1b838",
   "metadata": {},
   "outputs": [],
   "source": [
    "df.groupby(df.index).sum()"
   ]
  },
  {
   "cell_type": "markdown",
   "id": "8e8929f5-8763-42a2-97c7-813a75f73103",
   "metadata": {},
   "source": [
    "# Resampling method "
   ]
  },
  {
   "cell_type": "code",
   "execution_count": null,
   "id": "1449cbf7-540f-4d62-a8c2-60514a1d54ff",
   "metadata": {},
   "outputs": [],
   "source": [
    "df.resample('m')[['spend']].sum()\n",
    "df.resample('w').sum() #resamples (= partitions) per week "
   ]
  },
  {
   "cell_type": "code",
   "execution_count": null,
   "id": "8fc39bf3-1eab-4076-b4ca-dd8d5d5f1996",
   "metadata": {},
   "outputs": [],
   "source": [
    "df.resample('m')[['spend']].mean()\n",
    "\n",
    "#is the same than below\n",
    "df.resample('m').agg({\n",
    "    'spend' : 'mean'\n",
    "    })"
   ]
  },
  {
   "cell_type": "code",
   "execution_count": null,
   "id": "b35a3300-792c-411c-b607-e482e83fd1a2",
   "metadata": {},
   "outputs": [],
   "source": [
    "df.asfreq(\"6H\") # changes the frequency of the dates to the frequency required (Y, Q, m, d, H)"
   ]
  },
  {
   "cell_type": "markdown",
   "id": "4b97a1fa-72a5-4ea8-a1a8-79584ec29077",
   "metadata": {},
   "source": [
    "# calculation columns"
   ]
  },
  {
   "cell_type": "code",
   "execution_count": null,
   "id": "e59fb99c-415f-4e32-88f6-1f13798e386e",
   "metadata": {},
   "outputs": [],
   "source": [
    "df['spend'].pct_change(4) #percentage change for every 4 days (or 4 rows depending on the frequency)"
   ]
  },
  {
   "cell_type": "code",
   "execution_count": null,
   "id": "c15d86b4-7811-4c69-b296-f2639c67b9cd",
   "metadata": {},
   "outputs": [],
   "source": [
    "df.groupby([df.index.isocalendar().day, df.index.isocalendar().week)]).first()[['spend']].pct_change(1)"
   ]
  },
  {
   "cell_type": "markdown",
   "id": "77179c68-6e23-436f-ab94-cea2b2224727",
   "metadata": {},
   "source": [
    "# window functions"
   ]
  },
  {
   "cell_type": "code",
   "execution_count": null,
   "id": "c48ff8f1-148e-4c3f-acac-61be080297d5",
   "metadata": {},
   "outputs": [],
   "source": [
    "df['spend'].rolling(4).sum # provides the rolling sum on 4 days "
   ]
  }
 ],
 "metadata": {
  "kernelspec": {
   "display_name": "Python 3 (ipykernel)",
   "language": "python",
   "name": "python3"
  },
  "language_info": {
   "codemirror_mode": {
    "name": "ipython",
    "version": 3
   },
   "file_extension": ".py",
   "mimetype": "text/x-python",
   "name": "python",
   "nbconvert_exporter": "python",
   "pygments_lexer": "ipython3",
   "version": "3.10.7"
  }
 },
 "nbformat": 4,
 "nbformat_minor": 5
}
