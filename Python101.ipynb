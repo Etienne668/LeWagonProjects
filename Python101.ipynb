{
 "cells": [
  {
   "cell_type": "markdown",
   "id": "9616ed41-84be-4e45-ac4e-8b424f4ddb1f",
   "metadata": {},
   "source": [
    "# Other functions used :"
   ]
  },
  {
   "cell_type": "code",
   "execution_count": null,
   "id": "ec60267f-237f-4ef2-b4ed-cd62c349742b",
   "metadata": {},
   "outputs": [],
   "source": [
    "- print()\n",
    "-> printing is not saving anything\n",
    "\n",
    "- type()\n",
    "-> returns the type of the object \n",
    "\n",
    "- len(object) \n",
    "-> gives the length of the object such as list,...)"
   ]
  },
  {
   "cell_type": "code",
   "execution_count": 3,
   "id": "39f5be13-baef-42b9-b7c1-674f8c8a4f6b",
   "metadata": {},
   "outputs": [
    {
     "name": "stdout",
     "output_type": "stream",
     "text": [
      "hello world 2023!\n"
     ]
    }
   ],
   "source": [
    "#f helps add a variable or any piece of code within a string thanks to {}\n",
    "\n",
    "year = 2023\n",
    "s = f\"hello world {year}!\"\n",
    "print(s)"
   ]
  },
  {
   "cell_type": "code",
   "execution_count": 7,
   "id": "cf4263d6-729f-4018-8879-9ce4484ead52",
   "metadata": {},
   "outputs": [
    {
     "name": "stdout",
     "output_type": "stream",
     "text": [
      "etienne's place \n",
      "hello\n"
     ]
    }
   ],
   "source": [
    "# using backslash for special characters\n",
    "\n",
    "sentence = 'etienne\\'s place \\nhello'\n",
    "print(sentence)"
   ]
  },
  {
   "cell_type": "markdown",
   "id": "3b882a0f-b8bc-406b-aeee-e873cc4600bd",
   "metadata": {},
   "source": [
    "# List \n",
    "\n",
    "-> Can contain any type of object\n",
    "-> Don't call a list \"list\" as it is a Python object and can be mixed within the code. "
   ]
  },
  {
   "cell_type": "markdown",
   "id": "8778a2d1-5e36-4992-84c2-071c9040033d",
   "metadata": {},
   "source": [
    "# slicing : accessing multiple values in a list \n",
    "\n",
    "If the step is negative, you get the list in the reverse order. Step is also used to skip numbers (by the number which is step \n",
    "-> if it is 2, I skip every 2 numbers)\n",
    "\n",
    "the start is inclusive, the stop is exclusive (excludes the data from the index typed)\n"
   ]
  },
  {
   "cell_type": "code",
   "execution_count": null,
   "id": "2216fe15-f666-45a1-a131-310e3adbcb05",
   "metadata": {},
   "outputs": [],
   "source": [
    "list[start : stop : step]"
   ]
  },
  {
   "cell_type": "markdown",
   "id": "e0c6eae3-075f-4ab2-b81a-7f2a814da0a2",
   "metadata": {},
   "source": [
    "# append a list \n"
   ]
  },
  {
   "cell_type": "code",
   "execution_count": null,
   "id": "5529e996-4681-4c72-b4a7-06c7bea20b2f",
   "metadata": {},
   "outputs": [],
   "source": [
    "l[index] = replacement data \n",
    "l.insert (index, value)\n",
    "l.append(\n",
    "\n",
    "del l[1] -> deletes the index 1 of the list "
   ]
  },
  {
   "cell_type": "markdown",
   "id": "c1dc3355-f870-4e77-83a8-c556d67234d7",
   "metadata": {},
   "source": [
    "# Sort a list "
   ]
  },
  {
   "cell_type": "code",
   "execution_count": null,
   "id": "4a82b89e-46f5-4d77-97e2-f3a24aa59d11",
   "metadata": {},
   "outputs": [],
   "source": [
    "l.sort()\n",
    "sorted(object)"
   ]
  },
  {
   "cell_type": "markdown",
   "id": "d6c50930-4e2a-4190-abcf-c0397a525007",
   "metadata": {},
   "source": [
    "# Delete a value"
   ]
  },
  {
   "cell_type": "code",
   "execution_count": null,
   "id": "bb3c8ea9-f667-484b-8a90-950fa55c553a",
   "metadata": {},
   "outputs": [],
   "source": [
    "l.pop(index)"
   ]
  },
  {
   "cell_type": "markdown",
   "id": "7ad0a857-13b6-43cc-97dc-2a297edb9f98",
   "metadata": {},
   "source": [
    "# Dictionaries"
   ]
  },
  {
   "cell_type": "markdown",
   "id": "15adaa25-6793-4cbd-ac53-b7ab7f91b5f1",
   "metadata": {},
   "source": [
    "Dictionaries are helpful to look for data into an object without having to type the index # of the thing looked for."
   ]
  },
  {
   "cell_type": "code",
   "execution_count": 11,
   "id": "2ce3e588-87a6-4371-bc48-c482448ce654",
   "metadata": {},
   "outputs": [],
   "source": [
    "d = {\"first_name\" : \"Etienne\", \"last_name\" : \"Campredon\"}"
   ]
  },
  {
   "cell_type": "code",
   "execution_count": 12,
   "id": "8581195e-bdc8-4359-844d-ee54839b82e9",
   "metadata": {},
   "outputs": [
    {
     "data": {
      "text/plain": [
       "'Etienne'"
      ]
     },
     "execution_count": 12,
     "metadata": {},
     "output_type": "execute_result"
    }
   ],
   "source": [
    "d[\"first_name\"]"
   ]
  },
  {
   "cell_type": "markdown",
   "id": "6edc4dfc-3b89-4061-8982-29048b80855e",
   "metadata": {},
   "source": [
    "# Update a dictionary "
   ]
  },
  {
   "cell_type": "code",
   "execution_count": null,
   "id": "706d4a03-5328-4d24-aa8e-0fc74bd33a87",
   "metadata": {},
   "outputs": [],
   "source": [
    "d[\"first_name\"] = \"new_value\""
   ]
  },
  {
   "cell_type": "markdown",
   "id": "ec264a10-e9ef-4deb-bf51-e48509e2bf99",
   "metadata": {},
   "source": [
    "# delete a dict / value in a dict."
   ]
  },
  {
   "cell_type": "code",
   "execution_count": null,
   "id": "5c98dc23-ef1c-41a3-bcd7-289f8919cf95",
   "metadata": {},
   "outputs": [],
   "source": [
    "del d[\"first_name\"]"
   ]
  },
  {
   "cell_type": "markdown",
   "id": "a3191740-da29-4850-8f57-3dae69e47cfa",
   "metadata": {},
   "source": [
    "# delete a key "
   ]
  },
  {
   "cell_type": "code",
   "execution_count": null,
   "id": "a8cba135-ef62-4ad0-a680-a3b740bd4341",
   "metadata": {},
   "outputs": [],
   "source": [
    "d.pop(\"first_name\")"
   ]
  },
  {
   "cell_type": "markdown",
   "id": "e11a1dd4-99ec-4f8b-8507-cf46e23a9727",
   "metadata": {},
   "source": [
    "# Functions in a dictionary "
   ]
  },
  {
   "cell_type": "code",
   "execution_count": 16,
   "id": "54fe4ecc-5a7a-4d94-b3c2-77208a762d39",
   "metadata": {},
   "outputs": [
    {
     "data": {
      "text/plain": [
       "dict_keys(['first_name', 'last_name'])"
      ]
     },
     "execution_count": 16,
     "metadata": {},
     "output_type": "execute_result"
    }
   ],
   "source": [
    "d.keys() \n",
    "d[\"key\"].keys()\n",
    "len(d[\"key1\"][\"key_indented\"])"
   ]
  },
  {
   "cell_type": "markdown",
   "id": "43093652-5eb8-4985-ae79-389dd494d79e",
   "metadata": {},
   "source": [
    "# Functions"
   ]
  },
  {
   "cell_type": "code",
   "execution_count": 17,
   "id": "e3bbe283-7137-4b6c-bcf8-74ea6ded6d6d",
   "metadata": {},
   "outputs": [],
   "source": [
    "def name() :\n",
    "    action"
   ]
  },
  {
   "cell_type": "markdown",
   "id": "287be7af-deba-43eb-9f9a-56cad1a8b62b",
   "metadata": {},
   "source": [
    "-> This is gonna record the function, not run it. "
   ]
  },
  {
   "cell_type": "code",
   "execution_count": null,
   "id": "adbe5323-fcb8-4ac6-9861-cf09d39d693a",
   "metadata": {},
   "outputs": [],
   "source": [
    "name()"
   ]
  },
  {
   "cell_type": "markdown",
   "id": "a548c115-5e39-4c85-a898-22a349364ae7",
   "metadata": {},
   "source": [
    "-> This is calling the function"
   ]
  },
  {
   "cell_type": "markdown",
   "id": "c3a28654-6bdd-4791-b85d-ae8314d32b63",
   "metadata": {},
   "source": [
    "-> Functions are used to store variables and operations"
   ]
  },
  {
   "cell_type": "code",
   "execution_count": 21,
   "id": "4698e44a-5525-4973-8686-756eb6495968",
   "metadata": {},
   "outputs": [
    {
     "name": "stdout",
     "output_type": "stream",
     "text": [
      "Hello Etienne\n"
     ]
    }
   ],
   "source": [
    "def print_hello_world(name):\n",
    "    print(f\"Hello {name}\")\n",
    "\n",
    "print_hello_world(\"Etienne\")"
   ]
  },
  {
   "cell_type": "code",
   "execution_count": 23,
   "id": "912fcc01-b41c-447d-821e-91dd7eacf0c4",
   "metadata": {},
   "outputs": [
    {
     "name": "stdout",
     "output_type": "stream",
     "text": [
      "Hello Paul\n"
     ]
    }
   ],
   "source": [
    "def print_hello_world(name = \"Paul\"):\n",
    "    print(f\"Hello {name}\")\n",
    "\n",
    "print_hello_world()"
   ]
  },
  {
   "cell_type": "markdown",
   "id": "8c195bf9-71e7-4850-9ede-96a9356b9b29",
   "metadata": {},
   "source": [
    "-> This will print the name by default set in the function : here \"Paul\" if I don't write a name when I call my function. "
   ]
  },
  {
   "cell_type": "markdown",
   "id": "2902ba30-bcb5-4562-ac7a-88481b92c649",
   "metadata": {},
   "source": [
    "# Classes"
   ]
  },
  {
   "cell_type": "markdown",
   "id": "a53ac737-bb12-44a3-a9a7-20b4bc7adc05",
   "metadata": {},
   "source": [
    "a class is, in python, an int, a float,... We can create our own classes. \n",
    "in s = \"sophie\", s is an object within a class, and a class has methods, for instance:\n",
    "-> s.upper() is a method\n",
    "-> s. _class_ will return the class of s\n"
   ]
  },
  {
   "cell_type": "code",
   "execution_count": 25,
   "id": "5265ffb7-7554-4b4a-8bca-b789c1b9ebf5",
   "metadata": {},
   "outputs": [],
   "source": [
    "s = \"Sophie\""
   ]
  },
  {
   "cell_type": "code",
   "execution_count": 28,
   "id": "4e81f94b-d75c-4046-af21-35a6a9882701",
   "metadata": {},
   "outputs": [
    {
     "name": "stdout",
     "output_type": "stream",
     "text": [
      "<class 'str'>\n"
     ]
    }
   ],
   "source": [
    "print(s.__class__)"
   ]
  },
  {
   "cell_type": "code",
   "execution_count": null,
   "id": "6e50b0c6-c8d2-4c13-be5b-c939c5cfe9b9",
   "metadata": {},
   "outputs": [],
   "source": [
    "df.column.astype(float / int / other)\n",
    "-> changes data type in dataframe"
   ]
  }
 ],
 "metadata": {
  "kernelspec": {
   "display_name": "Python 3 (ipykernel)",
   "language": "python",
   "name": "python3"
  },
  "language_info": {
   "codemirror_mode": {
    "name": "ipython",
    "version": 3
   },
   "file_extension": ".py",
   "mimetype": "text/x-python",
   "name": "python",
   "nbconvert_exporter": "python",
   "pygments_lexer": "ipython3",
   "version": "3.10.7"
  }
 },
 "nbformat": 4,
 "nbformat_minor": 5
}
