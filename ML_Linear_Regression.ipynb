{
 "cells": [
  {
   "cell_type": "markdown",
   "id": "d451d215-f26d-44b8-b168-c7f84ed6f241",
   "metadata": {},
   "source": [
    "# Train / test separation\n"
   ]
  },
  {
   "cell_type": "code",
   "execution_count": null,
   "id": "47f2a16f-990b-468b-860b-1146ce8d4954",
   "metadata": {},
   "outputs": [],
   "source": [
    "# split test and train datasets to avoid OVERFITTING\n",
    "\n",
    "from sklearn.model_selection import train_test_split \n",
    "\n",
    "df_train, df_test = train_test_split(df, test_size = 0.2)"
   ]
  },
  {
   "cell_type": "markdown",
   "id": "6e4fc7e4-8265-4995-9440-14771d9bd9a7",
   "metadata": {},
   "source": [
    "# Modeling"
   ]
  },
  {
   "cell_type": "code",
   "execution_count": null,
   "id": "83b4a9bd-47f7-47b9-bf97-31123b9f5b5d",
   "metadata": {},
   "outputs": [],
   "source": [
    "# Import the model and fit the model \n",
    "\n",
    "from sklearn.linear_model import LinearRegression\n",
    "\n",
    "reg = LinearRegression()\n",
    "\n",
    "reg.fit(X_train, y_train)"
   ]
  },
  {
   "cell_type": "code",
   "execution_count": null,
   "id": "12b64bc0-02ec-4059-831f-ae64df6dd8eb",
   "metadata": {},
   "outputs": [],
   "source": [
    "# Call reg object\n",
    "\n",
    "y_new = reg.predict(X_new)"
   ]
  }
 ],
 "metadata": {
  "kernelspec": {
   "display_name": "Python 3 (ipykernel)",
   "language": "python",
   "name": "python3"
  },
  "language_info": {
   "codemirror_mode": {
    "name": "ipython",
    "version": 3
   },
   "file_extension": ".py",
   "mimetype": "text/x-python",
   "name": "python",
   "nbconvert_exporter": "python",
   "pygments_lexer": "ipython3",
   "version": "3.10.7"
  }
 },
 "nbformat": 4,
 "nbformat_minor": 5
}
